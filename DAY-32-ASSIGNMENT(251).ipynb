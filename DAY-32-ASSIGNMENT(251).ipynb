{
 "cells": [
  {
   "cell_type": "code",
   "execution_count": 2,
   "id": "e0303e46-5ad2-43ef-9530-58273b368782",
   "metadata": {},
   "outputs": [
    {
     "ename": "SyntaxError",
     "evalue": "incomplete input (1399257809.py, line 37)",
     "output_type": "error",
     "traceback": [
      "\u001b[1;36m  Cell \u001b[1;32mIn[2], line 37\u001b[1;36m\u001b[0m\n\u001b[1;33m    \u001b[0m\n\u001b[1;37m    ^\u001b[0m\n\u001b[1;31mSyntaxError\u001b[0m\u001b[1;31m:\u001b[0m incomplete input\n"
     ]
    }
   ],
   "source": [
    "import pandas as pd\n",
    "import numpy as np\n",
    "import matplotlib.pyplot as plt\n",
    "import seaborn as sns\n",
    "from sklearn.metrics.pairwise import cosine_similarity\n",
    "\n",
    "df = pd.read_csv(r'C:\\Users\\madha\\Downloads\\Day_32 Recommendation_System_Data.csv')\n",
    "\n",
    "df.columns = df.columns.str.strip()  # Remove any leading or trailing spaces from column names\n",
    "print(df.head())\n",
    "\n",
    "if 'item_id' not in df.columns or 'rating' not in df.columns or 'user_id' not in df.columns:\n",
    "    print(\"Error: Expected column names not found in dataset. Available columns:\", df.columns)\n",
    "else:\n",
    "    item_counts = df['item_id'].value_counts().head(5)\n",
    "    print(item_counts)\n",
    "\n",
    "    average_ratings = df.groupby('item_id')['rating'].mean()\n",
    "    print(average_ratings.head())\n",
    "\n",
    "    plt.figure(figsize=(8, 6))\n",
    "    sns.histplot(df['rating'], bins=10, kde=True)\n",
    "    plt.xlabel(\"Rating\")\n",
    "    plt.ylabel(\"Frequency\")\n",
    "    plt.title(\"Distribution of Ratings\")\n",
    "    plt.show()\n",
    "\n",
    "    user_item_matrix = df.pivot(index='user_id', columns='item_id', values='rating').fillna(0)\n",
    "\n",
    "    user_similarity = cosine_similarity(user_item_matrix)\n",
    "    np.fill_diagonal(user_similarity, 0)\n",
    "\n",
    "    user_similarity_df = pd.DataFrame(user_similarity, index=user_item_matrix.index, columns=user_item_matrix.index)\n",
    "\n",
    "    def get_top_n_recommendations(user_id, n=5):\n",
    "        if user_id not in user_similarity_df.index:\n",
    "   \n"
   ]
  },
  {
   "cell_type": "code",
   "execution_count": null,
   "id": "ab6e9b2c-e687-4248-80a4-f55bde417888",
   "metadata": {},
   "outputs": [],
   "source": []
  }
 ],
 "metadata": {
  "kernelspec": {
   "display_name": "Python 3 (ipykernel)",
   "language": "python",
   "name": "python3"
  },
  "language_info": {
   "codemirror_mode": {
    "name": "ipython",
    "version": 3
   },
   "file_extension": ".py",
   "mimetype": "text/x-python",
   "name": "python",
   "nbconvert_exporter": "python",
   "pygments_lexer": "ipython3",
   "version": "3.12.7"
  }
 },
 "nbformat": 4,
 "nbformat_minor": 5
}
